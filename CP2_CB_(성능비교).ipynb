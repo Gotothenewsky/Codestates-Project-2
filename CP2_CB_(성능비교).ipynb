{
  "cells": [
    {
      "cell_type": "code",
      "execution_count": null,
      "metadata": {
        "id": "QvchZf3GLQVd"
      },
      "outputs": [],
      "source": [
        "import pandas as pd\n",
        "import numpy as np\n",
        "import pickle\n",
        "from scipy.sparse import csr_matrix\n",
        "from sklearn.feature_extraction.text import CountVectorizer\n",
        "from sklearn.preprocessing import MinMaxScaler\n",
        "import warnings\n",
        "from tqdm.notebook import tqdm\n",
        "import random\n",
        "from scipy.stats import norm\n",
        "warnings.simplefilter(action='ignore', category=FutureWarning or RuntimeWarning)\n",
        "\n",
        "DATA_PATH = '/content/drive/MyDrive/'"
      ]
    },
    {
      "cell_type": "markdown",
      "metadata": {
        "id": "BqEXQ2zoLQVg"
      },
      "source": [
        "### performance of CB_model"
      ]
    },
    {
      "cell_type": "code",
      "execution_count": null,
      "metadata": {
        "id": "WmAt0PvPLQVi"
      },
      "outputs": [],
      "source": [
        "# 메모리상에 여유를 위해 pickling 하는 함수\n",
        "def pickling(arg_object, arg_file_name):\n",
        "    with open(f'{arg_file_name}.pkl','wb') as pickle_file:\n",
        "        pickle.dump(arg_object, pickle_file)       \n",
        "    print(f\"{arg_file_name}.pkl로 pickling 완료\")"
      ]
    },
    {
      "cell_type": "code",
      "execution_count": null,
      "metadata": {
        "id": "MV6CAbD4LQVi"
      },
      "outputs": [],
      "source": [
        "# 저장한 pkl 파일을 불러오는 함수\n",
        "def test_pkl(name):\n",
        "    test = None\n",
        "    with open(f'{name}.pkl','rb') as pickle_file:\n",
        "        test = pickle.load(pickle_file)\n",
        "    return test"
      ]
    },
    {
      "cell_type": "code",
      "execution_count": null,
      "metadata": {
        "id": "MRJ_oc04LQVj"
      },
      "outputs": [],
      "source": [
        "# pearson table 을 쉽게 만들기 위해 데이터를 가공후 data_for_pearson.parquet.gzip 으로 저장\n",
        "df = pd.read_csv(DATA_PATH + \"df2.csv\")\n",
        "df.dropna(inplace = True)\n",
        "df.drop(columns = [\"event_time\", \"category_id\", \"user_session\"], inplace = True)\n",
        "df = df[df[\"event_type\"] == \"view\"]\n",
        "df.reset_index(drop = True, inplace = True)\n",
        "df.to_parquet(DATA_PATH + \"data_for_pearson.parquet.gzip\")\n",
        "\n",
        "#category_0 = division1"
      ]
    },
    {
      "cell_type": "code",
      "execution_count": null,
      "metadata": {
        "id": "J34v0ADELQVj"
      },
      "outputs": [],
      "source": [
        "def make_pearson_table(target_category):\n",
        "    '''\n",
        "    target_category 가 주어지면 해당 카테고리의 상품들로 pearson table을 만들어서 반환하는 함수\n",
        "    '''\n",
        "\n",
        "    # 데이터 불러오기 \n",
        "    df = pd.read_parquet(DATA_PATH + \"data_for_pearson.parquet.gzip\", columns = [\"product_id\", \"brand\", \"price\", \"division1\"])\n",
        "\n",
        "    # 해당 대분류만 가져오기\n",
        "    df = df[df[\"division1\"] == target_category]\n",
        "    df = df.reset_index(drop= True)\n",
        "\n",
        "    # 대분류와 브랜드를 합친 division1+brand 변수 생성\n",
        "    df[\"division1+brand\"] = df[\"division1\"] +  df[\"brand\"].apply(lambda x : \".\" + x)\n",
        "\n",
        "    # 제품별로 division1+brand와 가격의 평균으로 보기\n",
        "    df = df.groupby(\"product_id\").agg({\"division1+brand\" : \"unique\", \"price\" : \"mean\"})\n",
        "    df = df.reset_index()\n",
        "    df[\"division1+brand\"] = df[\"division1+brand\"].apply(lambda x : x[0])\n",
        "    \n",
        "    # 가격평균을 MinMaxScaler 를 이용하여 스케일링하기\n",
        "    # df_minmax 는 스케일링된 가격평균을 가지고 있는 DataFrame\n",
        "    scaler = MinMaxScaler()\n",
        "    df_minmax = scaler.fit_transform(df[[\"price\"]])\n",
        "    df_minmax = pd.DataFrame(df_minmax, columns=['mMprice'])\n",
        "    df_minmax.index = df['product_id'].values\n",
        "    del scaler\n",
        "\n",
        "    # CountVectorizer 적용\n",
        "    # sparse matrix 인 countvect 에서 직접 계산하면 더 효율적일 것으로 예상\n",
        "    vect = CountVectorizer()\n",
        "    docs = df['division1+brand'].values\n",
        "    countvect = vect.fit_transform(docs)\n",
        "    countvect_df =pd.DataFrame(countvect.toarray(), columns = sorted(vect.vocabulary_))\n",
        "    countvect_df.index = df['product_id'].values\n",
        "    del vect, docs, countvect\n",
        "\n",
        "    # 제품을 index로 가지는 데이터(제품별 특징을 담고있다)\n",
        "    df = pd.concat([df_minmax, countvect_df], axis= 1)\n",
        "    del df_minmax, countvect_df\n",
        "\n",
        "    # 피어슨 유사도 계산\n",
        "    df = df.T.corr()\n",
        "    return df"
      ]
    },
    {
      "cell_type": "code",
      "execution_count": null,
      "metadata": {
        "id": "SqKiANWeLQVk",
        "outputId": "f25164c5-6d3d-427e-fb97-f7c17d6df603"
      },
      "outputs": [
        {
          "name": "stdout",
          "output_type": "stream",
          "text": [
            "appliances_pearson_table.pkl로 pickling 완료\n",
            "computers_pearson_table.pkl로 pickling 완료\n",
            "electronics_pearson_table.pkl로 pickling 완료\n",
            "apparel_pearson_table.pkl로 pickling 완료\n",
            "furniture_pearson_table.pkl로 pickling 완료\n",
            "construction_pearson_table.pkl로 pickling 완료\n",
            "kids_pearson_table.pkl로 pickling 완료\n",
            "auto_pearson_table.pkl로 pickling 완료\n",
            "sport_pearson_table.pkl로 pickling 완료\n",
            "accessories_pearson_table.pkl로 pickling 완료\n",
            "medicine_pearson_table.pkl로 pickling 완료\n",
            "stationery_pearson_table.pkl로 pickling 완료\n",
            "country_yard_pearson_table.pkl로 pickling 완료\n"
          ]
        }
      ],
      "source": [
        "df = pd.read_parquet(DATA_PATH + \"data_for_pearson.parquet.gzip\", columns = [\"division1\"])\n",
        "division1_list = list(df[\"division1\"].unique())\n",
        "del df\n",
        "\n",
        "# 각 카테고리별로 pearson table을 생성하고 저장한다.\n",
        "for division1 in division1_list:\n",
        "    df = make_pearson_table(target_category = division1)\n",
        "    pickling(df, f\"{division1}_pearson_table\")\n",
        "    del df"
      ]
    },
    {
      "cell_type": "markdown",
      "metadata": {
        "id": "LIbPrw-VLQVl"
      },
      "source": [
        "### 각 대분류별로 pearson 유사도를 계산 후 비교를 통한 상품추천"
      ]
    },
    {
      "cell_type": "code",
      "execution_count": null,
      "metadata": {
        "id": "JmhcGfsxLQVm",
        "outputId": "0c846dc9-98c3-4e8f-d55a-a6405ccc2390"
      },
      "outputs": [
        {
          "name": "stdout",
          "output_type": "stream",
          "text": [
            "product_id_to_category_code_0.pkl로 pickling 완료\n"
          ]
        }
      ],
      "source": [
        "# product_id 입력받으면 해당 제품의 1차 카테고리를 반환하는 dict 생성\n",
        "df = pd.read_parquet(DATA_PATH + \"data_for_pearson.parquet.gzip\", columns = [\"product_id\", \"division1\"])\n",
        "df = df.drop_duplicates(subset=None, keep='first', inplace=False, ignore_index=True)\n",
        "product_id_to_division1 = {product_id : division1 for product_id, division1 in list(zip(df[\"product_id\"], df[\"division1\"]))}\n",
        "pickling(product_id_to_division1, \"product_id_to_division1\")\n",
        "del product_id_to_division1, df"
      ]
    },
    {
      "cell_type": "code",
      "execution_count": null,
      "metadata": {
        "id": "5hS0oZZuLQVm"
      },
      "outputs": [],
      "source": [
        "# 조회한 상품의 종류가 2개이상 10개 이하인 유저만 불러오기\n",
        "df = pd.read_parquet(DATA_PATH + \"data_for_pearson.parquet.gzip\", columns = [\"product_id\", \"user_id\"])\n",
        "df = df.groupby(\"user_id\").nunique()\n",
        "df = df[(df[\"product_id\"] >= 2) & (df[\"product_id\"] <= 10)]\n",
        "lower_user_list = df.index\n",
        "df = pd.read_parquet(DATA_PATH + \"data_for_pearson.parquet.gzip\", columns = [\"user_id\", \"product_id\", \"event_type\"])\n",
        "df = df[df[\"user_id\"].isin(lower_user_list)]  \n",
        "df = df.reset_index(drop =True)\n",
        "df = df.groupby([\"user_id\", \"product_id\"]).count().reset_index()"
      ]
    },
    {
      "cell_type": "code",
      "execution_count": null,
      "metadata": {
        "id": "91uG82R7LQVm",
        "outputId": "c95c7f93-e056-4941-8b32-f76999e34e69"
      },
      "outputs": [
        {
          "data": {
            "text/plain": [
              "<1177302x51628 sparse matrix of type '<class 'numpy.int64'>'\n",
              "\twith 5058355 stored elements in Compressed Sparse Row format>"
            ]
          },
          "execution_count": 5,
          "metadata": {},
          "output_type": "execute_result"
        }
      ],
      "source": [
        "# csr_matrix 활용\n",
        "user_unique = df['user_id'].unique()\n",
        "product_unique = df['product_id'].unique()\n",
        "cb_user_to_index = {user:index for index, user in enumerate(user_unique)}\n",
        "cb_index_to_user = {index:user for index, user in enumerate(user_unique)}\n",
        "cb_product_to_index = {product:index for index, product in enumerate(product_unique)}\n",
        "cb_index_to_product = {index:product for index, product in enumerate(product_unique)}\n",
        "df['user_id'] = df['user_id'].map(cb_user_to_index.get)\n",
        "df['product_id'] = df['product_id'].map(cb_product_to_index.get)\n",
        "num_user = df['user_id'].nunique()\n",
        "num_product = df['product_id'].nunique()\n",
        "lower_user_item_matrix = csr_matrix((df.event_type, (df.user_id, df.product_id)), shape= (num_user, num_product))\n",
        "\n",
        "del df, user_unique, product_unique\n",
        "\n",
        "lower_user_item_matri"
      ]
    },
    {
      "cell_type": "markdown",
      "metadata": {
        "id": "EMWr47EZLQVn"
      },
      "source": [
        "### 성능 평가를 위해 한 유저당 임의의 상품 하나의 view기록을 0으로 만듬"
      ]
    },
    {
      "cell_type": "code",
      "execution_count": null,
      "metadata": {
        "id": "B1NXnoo6LQVn"
      },
      "outputs": [],
      "source": [
        "samples = []\n",
        "\n",
        "for user_idx in tqdm(range(num_user)) :\n",
        "    samples.append((user_idx, random.sample(lower_user_item_matrix[user_idx].nonzero()[1].tolist(), 1)[0]))\n",
        "    \n",
        "training_set = lower_user_item_matrix.copy()\n",
        "test_set = lower_user_item_matrix.copy()\n",
        "\n",
        "user_inds = [index[0] for index in samples]\n",
        "item_inds = [index[1] for index in samples]\n",
        "\n",
        "training_set[user_inds, item_inds] = 0\n",
        "training_set.eliminate_zeros()\n",
        "\n",
        "del lower_user_item_matrix"
      ]
    },
    {
      "cell_type": "code",
      "execution_count": null,
      "metadata": {
        "id": "ieXiiXGULQVn"
      },
      "outputs": [],
      "source": [
        "# 유저별로 가장 view 수가 큰 product_id를 가지는 list\n",
        "input_data = list(np.array(np.argmax(training_set, axis=1)).reshape(-1))\n",
        "input_data = list(map(cb_index_to_product.get, input_data))\n",
        "\n",
        "# 가려진 product_id를 가지는 list\n",
        "label = list(map(cb_index_to_product.get, item_inds))"
      ]
    },
    {
      "cell_type": "code",
      "execution_count": null,
      "metadata": {
        "id": "Hqv79YQxLQVn",
        "outputId": "acd355b8-ba80-4cac-f99e-b10f5c21da1f",
        "colab": {
          "referenced_widgets": [
            "c834adc6c83247cbad33b020ad04abfe"
          ]
        }
      },
      "outputs": [
        {
          "data": {
            "application/vnd.jupyter.widget-view+json": {
              "model_id": "c834adc6c83247cbad33b020ad04abfe",
              "version_major": 2,
              "version_minor": 0
            },
            "text/plain": [
              "  0%|          | 0/10000 [00:00<?, ?it/s]"
            ]
          },
          "metadata": {},
          "output_type": "display_data"
        }
      ],
      "source": [
        "# Hit-rate@k 검증\n",
        "df = pd.read_parquet(DATA_PATH + \"data_for_pearson.parquet.gzip\", columns = [\"product_id\", \"event_type\"])\n",
        "df = df.groupby(\"product_id\").count()\n",
        "popular_product_id_list = list(df.sort_values(\"event_type\", ascending=False).index[:10])\n",
        "del df\n",
        "product_id_to_division1 = test_pkl(\"product_id_to_division1\")\n",
        "answer_store_by_model = []\n",
        "answer_store_by_pop = []\n",
        "sample_size = 10000\n",
        "for user_index in tqdm(np.random.randint(training_set.shape[1], size=sample_size)):\n",
        "    input_product_id = input_data[user_index]\n",
        "    input_category_code = product_id_to_division1[input_product_id]\n",
        "    pearson_table = test_pkl(f\"{input_category_code}_pearson_table\")\n",
        "    viewed_product_index_list = list(np.where(training_set[user_index].toarray()[0] != 0)[0])\n",
        "    viewed_product_id_list = list(map(cb_index_to_product.get, viewed_product_index_list ))\n",
        "    pearson_table = pearson_table[~pearson_table.index.isin(viewed_product_id_list)]\n",
        "    answer_by_model = label[user_index] in list(pearson_table[input_product_id].sort_values(ascending=False).index[:10])\n",
        "    answer_store_by_model.append(answer_by_model)\n",
        "    answer_by_pop = label[user_index] in popular_product_id_list\n",
        "    answer_store_by_pop.append(answer_by_pop)"
      ]
    },
    {
      "cell_type": "code",
      "execution_count": null,
      "metadata": {
        "id": "JezwC4tuLQVo",
        "outputId": "e4e0479c-d6dc-439f-a731-86ee364f008e"
      },
      "outputs": [
        {
          "name": "stdout",
          "output_type": "stream",
          "text": [
            "CB 모델의 Hit rate = 0.1314\n",
            "Baseline 모델의 Hit rate = 0.1157\n",
            "검정통계량 값 = 3.373647532876431\n",
            "유의확률 = 0.0003708964188694486\n"
          ]
        }
      ],
      "source": [
        "# Z-표본 검사: \n",
        "# Z-검정은 정규분포를 가정하며, 추출된 표본이 동일 모집단에 속하는지 가설 검증하기 위해 사용\n",
        "# Z-score는 '모집단 평균' 및 '모집단 표준 편차' 의 매개 변수를 이용해 계산\n",
        "# Null hypothesis(귀무 가설) - 표본 평균이 모집단 평균과 같음\n",
        "# Alternate hypothesis(대립 가설) - 표본 평균이 모집단 평균과 같지 않음\n",
        "\n",
        "model = sum(answer_store_by_model)/len(answer_store_by_model)\n",
        "pop = sum(answer_store_by_pop)/len(answer_store_by_pop)\n",
        "print(f\"CB 모델의 Hit rate = {model}\")\n",
        "print(f\"Baseline 모델의 Hit rate = {pop}\")\n",
        "\n",
        "pool = (sample_size * (model + pop)) / (sample_size * 2)\n",
        "Z = (model - pop) / np.sqrt(pool * (1 - pool) * (1/sample_size + 1/sample_size))\n",
        "print(f\"검정통계량 값 = {Z}\")\n",
        "print(f\"유의확률 = {1 - norm.cdf(Z)}\")"
      ]
    },
    {
      "cell_type": "markdown",
      "metadata": {
        "id": "jsZ-aPbfLQVo"
      },
      "source": [
        " z-score가 유의 수준인 alpha = 0.05보다 작으므로 \n",
        " 귀무가설을 기각하여, CB 모델의 hit-rate@k 가 최빈값 모델보다 유의미하게 높음"
      ]
    }
  ],
  "metadata": {
    "interpreter": {
      "hash": "81794d4967e6c3204c66dcd87b604927b115b27c00565d3d43f05ba2f3a2cb0d"
    },
    "kernelspec": {
      "display_name": "Python 3.9.6 64-bit",
      "language": "python",
      "name": "python3"
    },
    "language_info": {
      "codemirror_mode": {
        "name": "ipython",
        "version": 3
      },
      "file_extension": ".py",
      "mimetype": "text/x-python",
      "name": "python",
      "nbconvert_exporter": "python",
      "pygments_lexer": "ipython3",
      "version": "3.9.6"
    },
    "orig_nbformat": 4,
    "colab": {
      "provenance": []
    }
  },
  "nbformat": 4,
  "nbformat_minor": 0
}