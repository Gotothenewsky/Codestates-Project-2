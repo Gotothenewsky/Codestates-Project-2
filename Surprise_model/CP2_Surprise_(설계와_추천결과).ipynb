{
  "nbformat": 4,
  "nbformat_minor": 0,
  "metadata": {
    "colab": {
      "provenance": [],
      "collapsed_sections": [],
      "machine_shape": "hm"
    },
    "kernelspec": {
      "name": "python3",
      "display_name": "Python 3"
    },
    "language_info": {
      "name": "python"
    },
    "gpuClass": "premium"
  },
  "cells": [
    {
      "cell_type": "code",
      "execution_count": 1,
      "metadata": {
        "colab": {
          "base_uri": "https://localhost:8080/"
        },
        "id": "VJFFrJguVQNo",
        "outputId": "46e40d90-3a91-418f-ff79-fe623a11eb95"
      },
      "outputs": [
        {
          "output_type": "stream",
          "name": "stdout",
          "text": [
            "Drive already mounted at /content/drive; to attempt to forcibly remount, call drive.mount(\"/content/drive\", force_remount=True).\n"
          ]
        }
      ],
      "source": [
        "from google.colab import drive\n",
        "drive.mount('/content/drive')"
      ]
    },
    {
      "cell_type": "code",
      "source": [
        "import pandas as pd\n",
        "import numpy as np"
      ],
      "metadata": {
        "id": "H3z-w6xoWy2L"
      },
      "execution_count": 2,
      "outputs": []
    },
    {
      "cell_type": "markdown",
      "source": [
        "# **데이터셋 로드 & 알아볼 항목 분할**"
      ],
      "metadata": {
        "id": "6YXrZIronnKY"
      }
    },
    {
      "cell_type": "code",
      "source": [
        "df2 =  pd.read_csv('/content/drive/MyDrive/last2.csv')\n"
      ],
      "metadata": {
        "colab": {
          "base_uri": "https://localhost:8080/",
          "height": 424
        },
        "id": "W4ChiDPAVYmH",
        "outputId": "74d17f16-1514-442a-8920-77104b2b0b02"
      },
      "execution_count": 3,
      "outputs": [
        {
          "output_type": "execute_result",
          "data": {
            "text/plain": [
              "          product_id          category_id      brand    price    user_id  \\\n",
              "0            1307067  2053013558920217191     lenovo   251.74  550050854   \n",
              "1            1004237  2053013555631882655      apple  1081.98  535871217   \n",
              "2            3900746  2053013552326770905      haier   102.38  555444559   \n",
              "3            1306631  2053013558920217191         hp   580.89  550050854   \n",
              "4            1005135  2053013555631882655      apple  1747.79  535871217   \n",
              "...              ...                  ...        ...      ...        ...   \n",
              "14333031     2702331  2053013563911439225         lg   527.43  524356542   \n",
              "14333032     2300275  2053013560530830019      gopro   527.40  537931532   \n",
              "14333033    10800172  2053013554994348409    redmond    61.75  527322328   \n",
              "14333034    21407424  2053013561579406073     tissot   689.85  513118352   \n",
              "14333035    13300120  2053013557166998015  swisshome   155.73  525266378   \n",
              "\n",
              "            division1    division2  rating  \n",
              "0           computers     notebook     1.5  \n",
              "1         electronics   smartphone     1.5  \n",
              "2          appliances  environment     1.5  \n",
              "3           computers     notebook     1.5  \n",
              "4         electronics   smartphone     1.5  \n",
              "...               ...          ...     ...  \n",
              "14333031   appliances      kitchen     1.5  \n",
              "14333032  electronics       camera     1.5  \n",
              "14333033      unknown      unknown     1.5  \n",
              "14333034  electronics       clocks     1.5  \n",
              "14333035      unknown      unknown     1.5  \n",
              "\n",
              "[14333036 rows x 8 columns]"
            ],
            "text/html": [
              "\n",
              "  <div id=\"df-31b81935-a391-462d-a5fb-215abba5c073\">\n",
              "    <div class=\"colab-df-container\">\n",
              "      <div>\n",
              "<style scoped>\n",
              "    .dataframe tbody tr th:only-of-type {\n",
              "        vertical-align: middle;\n",
              "    }\n",
              "\n",
              "    .dataframe tbody tr th {\n",
              "        vertical-align: top;\n",
              "    }\n",
              "\n",
              "    .dataframe thead th {\n",
              "        text-align: right;\n",
              "    }\n",
              "</style>\n",
              "<table border=\"1\" class=\"dataframe\">\n",
              "  <thead>\n",
              "    <tr style=\"text-align: right;\">\n",
              "      <th></th>\n",
              "      <th>product_id</th>\n",
              "      <th>category_id</th>\n",
              "      <th>brand</th>\n",
              "      <th>price</th>\n",
              "      <th>user_id</th>\n",
              "      <th>division1</th>\n",
              "      <th>division2</th>\n",
              "      <th>rating</th>\n",
              "    </tr>\n",
              "  </thead>\n",
              "  <tbody>\n",
              "    <tr>\n",
              "      <th>0</th>\n",
              "      <td>1307067</td>\n",
              "      <td>2053013558920217191</td>\n",
              "      <td>lenovo</td>\n",
              "      <td>251.74</td>\n",
              "      <td>550050854</td>\n",
              "      <td>computers</td>\n",
              "      <td>notebook</td>\n",
              "      <td>1.5</td>\n",
              "    </tr>\n",
              "    <tr>\n",
              "      <th>1</th>\n",
              "      <td>1004237</td>\n",
              "      <td>2053013555631882655</td>\n",
              "      <td>apple</td>\n",
              "      <td>1081.98</td>\n",
              "      <td>535871217</td>\n",
              "      <td>electronics</td>\n",
              "      <td>smartphone</td>\n",
              "      <td>1.5</td>\n",
              "    </tr>\n",
              "    <tr>\n",
              "      <th>2</th>\n",
              "      <td>3900746</td>\n",
              "      <td>2053013552326770905</td>\n",
              "      <td>haier</td>\n",
              "      <td>102.38</td>\n",
              "      <td>555444559</td>\n",
              "      <td>appliances</td>\n",
              "      <td>environment</td>\n",
              "      <td>1.5</td>\n",
              "    </tr>\n",
              "    <tr>\n",
              "      <th>3</th>\n",
              "      <td>1306631</td>\n",
              "      <td>2053013558920217191</td>\n",
              "      <td>hp</td>\n",
              "      <td>580.89</td>\n",
              "      <td>550050854</td>\n",
              "      <td>computers</td>\n",
              "      <td>notebook</td>\n",
              "      <td>1.5</td>\n",
              "    </tr>\n",
              "    <tr>\n",
              "      <th>4</th>\n",
              "      <td>1005135</td>\n",
              "      <td>2053013555631882655</td>\n",
              "      <td>apple</td>\n",
              "      <td>1747.79</td>\n",
              "      <td>535871217</td>\n",
              "      <td>electronics</td>\n",
              "      <td>smartphone</td>\n",
              "      <td>1.5</td>\n",
              "    </tr>\n",
              "    <tr>\n",
              "      <th>...</th>\n",
              "      <td>...</td>\n",
              "      <td>...</td>\n",
              "      <td>...</td>\n",
              "      <td>...</td>\n",
              "      <td>...</td>\n",
              "      <td>...</td>\n",
              "      <td>...</td>\n",
              "      <td>...</td>\n",
              "    </tr>\n",
              "    <tr>\n",
              "      <th>14333031</th>\n",
              "      <td>2702331</td>\n",
              "      <td>2053013563911439225</td>\n",
              "      <td>lg</td>\n",
              "      <td>527.43</td>\n",
              "      <td>524356542</td>\n",
              "      <td>appliances</td>\n",
              "      <td>kitchen</td>\n",
              "      <td>1.5</td>\n",
              "    </tr>\n",
              "    <tr>\n",
              "      <th>14333032</th>\n",
              "      <td>2300275</td>\n",
              "      <td>2053013560530830019</td>\n",
              "      <td>gopro</td>\n",
              "      <td>527.40</td>\n",
              "      <td>537931532</td>\n",
              "      <td>electronics</td>\n",
              "      <td>camera</td>\n",
              "      <td>1.5</td>\n",
              "    </tr>\n",
              "    <tr>\n",
              "      <th>14333033</th>\n",
              "      <td>10800172</td>\n",
              "      <td>2053013554994348409</td>\n",
              "      <td>redmond</td>\n",
              "      <td>61.75</td>\n",
              "      <td>527322328</td>\n",
              "      <td>unknown</td>\n",
              "      <td>unknown</td>\n",
              "      <td>1.5</td>\n",
              "    </tr>\n",
              "    <tr>\n",
              "      <th>14333034</th>\n",
              "      <td>21407424</td>\n",
              "      <td>2053013561579406073</td>\n",
              "      <td>tissot</td>\n",
              "      <td>689.85</td>\n",
              "      <td>513118352</td>\n",
              "      <td>electronics</td>\n",
              "      <td>clocks</td>\n",
              "      <td>1.5</td>\n",
              "    </tr>\n",
              "    <tr>\n",
              "      <th>14333035</th>\n",
              "      <td>13300120</td>\n",
              "      <td>2053013557166998015</td>\n",
              "      <td>swisshome</td>\n",
              "      <td>155.73</td>\n",
              "      <td>525266378</td>\n",
              "      <td>unknown</td>\n",
              "      <td>unknown</td>\n",
              "      <td>1.5</td>\n",
              "    </tr>\n",
              "  </tbody>\n",
              "</table>\n",
              "<p>14333036 rows × 8 columns</p>\n",
              "</div>\n",
              "      <button class=\"colab-df-convert\" onclick=\"convertToInteractive('df-31b81935-a391-462d-a5fb-215abba5c073')\"\n",
              "              title=\"Convert this dataframe to an interactive table.\"\n",
              "              style=\"display:none;\">\n",
              "        \n",
              "  <svg xmlns=\"http://www.w3.org/2000/svg\" height=\"24px\"viewBox=\"0 0 24 24\"\n",
              "       width=\"24px\">\n",
              "    <path d=\"M0 0h24v24H0V0z\" fill=\"none\"/>\n",
              "    <path d=\"M18.56 5.44l.94 2.06.94-2.06 2.06-.94-2.06-.94-.94-2.06-.94 2.06-2.06.94zm-11 1L8.5 8.5l.94-2.06 2.06-.94-2.06-.94L8.5 2.5l-.94 2.06-2.06.94zm10 10l.94 2.06.94-2.06 2.06-.94-2.06-.94-.94-2.06-.94 2.06-2.06.94z\"/><path d=\"M17.41 7.96l-1.37-1.37c-.4-.4-.92-.59-1.43-.59-.52 0-1.04.2-1.43.59L10.3 9.45l-7.72 7.72c-.78.78-.78 2.05 0 2.83L4 21.41c.39.39.9.59 1.41.59.51 0 1.02-.2 1.41-.59l7.78-7.78 2.81-2.81c.8-.78.8-2.07 0-2.86zM5.41 20L4 18.59l7.72-7.72 1.47 1.35L5.41 20z\"/>\n",
              "  </svg>\n",
              "      </button>\n",
              "      \n",
              "  <style>\n",
              "    .colab-df-container {\n",
              "      display:flex;\n",
              "      flex-wrap:wrap;\n",
              "      gap: 12px;\n",
              "    }\n",
              "\n",
              "    .colab-df-convert {\n",
              "      background-color: #E8F0FE;\n",
              "      border: none;\n",
              "      border-radius: 50%;\n",
              "      cursor: pointer;\n",
              "      display: none;\n",
              "      fill: #1967D2;\n",
              "      height: 32px;\n",
              "      padding: 0 0 0 0;\n",
              "      width: 32px;\n",
              "    }\n",
              "\n",
              "    .colab-df-convert:hover {\n",
              "      background-color: #E2EBFA;\n",
              "      box-shadow: 0px 1px 2px rgba(60, 64, 67, 0.3), 0px 1px 3px 1px rgba(60, 64, 67, 0.15);\n",
              "      fill: #174EA6;\n",
              "    }\n",
              "\n",
              "    [theme=dark] .colab-df-convert {\n",
              "      background-color: #3B4455;\n",
              "      fill: #D2E3FC;\n",
              "    }\n",
              "\n",
              "    [theme=dark] .colab-df-convert:hover {\n",
              "      background-color: #434B5C;\n",
              "      box-shadow: 0px 1px 3px 1px rgba(0, 0, 0, 0.15);\n",
              "      filter: drop-shadow(0px 1px 2px rgba(0, 0, 0, 0.3));\n",
              "      fill: #FFFFFF;\n",
              "    }\n",
              "  </style>\n",
              "\n",
              "      <script>\n",
              "        const buttonEl =\n",
              "          document.querySelector('#df-31b81935-a391-462d-a5fb-215abba5c073 button.colab-df-convert');\n",
              "        buttonEl.style.display =\n",
              "          google.colab.kernel.accessAllowed ? 'block' : 'none';\n",
              "\n",
              "        async function convertToInteractive(key) {\n",
              "          const element = document.querySelector('#df-31b81935-a391-462d-a5fb-215abba5c073');\n",
              "          const dataTable =\n",
              "            await google.colab.kernel.invokeFunction('convertToInteractive',\n",
              "                                                     [key], {});\n",
              "          if (!dataTable) return;\n",
              "\n",
              "          const docLinkHtml = 'Like what you see? Visit the ' +\n",
              "            '<a target=\"_blank\" href=https://colab.research.google.com/notebooks/data_table.ipynb>data table notebook</a>'\n",
              "            + ' to learn more about interactive tables.';\n",
              "          element.innerHTML = '';\n",
              "          dataTable['output_type'] = 'display_data';\n",
              "          await google.colab.output.renderOutput(dataTable, element);\n",
              "          const docLink = document.createElement('div');\n",
              "          docLink.innerHTML = docLinkHtml;\n",
              "          element.appendChild(docLink);\n",
              "        }\n",
              "      </script>\n",
              "    </div>\n",
              "  </div>\n",
              "  "
            ]
          },
          "metadata": {},
          "execution_count": 3
        }
      ]
    },
    {
      "cell_type": "code",
      "source": [
        "df_cat = df2.loc[(df2['division2']=='smartphone')|\n",
        "                    (df2['division2']=='video')|\n",
        "                    (df2['division2']=='kitchen')|\n",
        "                    (df2['division2']=='notebook')\n",
        "                    ]\n",
        "\n",
        "df_cat=df_cat.reset_index(drop=True)\n",
        "df_cat"
      ],
      "metadata": {
        "colab": {
          "base_uri": "https://localhost:8080/",
          "height": 672
        },
        "id": "y-l-DtEaKGXo",
        "outputId": "c70453d7-5436-45eb-e961-776bc1f661f0"
      },
      "execution_count": 6,
      "outputs": [
        {
          "output_type": "execute_result",
          "data": {
            "text/plain": [
              "         product_id          category_id    brand    price    user_id  \\\n",
              "0           1307067  2053013558920217191   lenovo   251.74  550050854   \n",
              "1           1004237  2053013555631882655    apple  1081.98  535871217   \n",
              "2           1306631  2053013558920217191       hp   580.89  550050854   \n",
              "3           1005135  2053013555631882655    apple  1747.79  535871217   \n",
              "4           2700239  2053013563911439225   atlant   283.12  521242564   \n",
              "...             ...                  ...      ...      ...        ...   \n",
              "6721646     1004565  2053013555631882655   huawei   164.95  566143627   \n",
              "6721647    16700260  2053013559901684381  unknown    31.64  566255262   \n",
              "6721648     1002786  2053013555631882655  unknown   391.26  512789086   \n",
              "6721649     1005008  2053013555631882655   xiaomi    94.46  557202408   \n",
              "6721650     2702331  2053013563911439225       lg   527.43  524356542   \n",
              "\n",
              "           division1   division2  rating  \n",
              "0          computers    notebook     1.5  \n",
              "1        electronics  smartphone     1.5  \n",
              "2          computers    notebook     1.5  \n",
              "3        electronics  smartphone     1.5  \n",
              "4         appliances     kitchen     1.5  \n",
              "...              ...         ...     ...  \n",
              "6721646  electronics  smartphone     1.5  \n",
              "6721647    furniture     kitchen     1.5  \n",
              "6721648  electronics  smartphone     1.5  \n",
              "6721649  electronics  smartphone     1.5  \n",
              "6721650   appliances     kitchen     1.5  \n",
              "\n",
              "[6721651 rows x 8 columns]"
            ],
            "text/html": [
              "\n",
              "  <div id=\"df-62a65346-acbc-4419-80df-0e314625e166\">\n",
              "    <div class=\"colab-df-container\">\n",
              "      <div>\n",
              "<style scoped>\n",
              "    .dataframe tbody tr th:only-of-type {\n",
              "        vertical-align: middle;\n",
              "    }\n",
              "\n",
              "    .dataframe tbody tr th {\n",
              "        vertical-align: top;\n",
              "    }\n",
              "\n",
              "    .dataframe thead th {\n",
              "        text-align: right;\n",
              "    }\n",
              "</style>\n",
              "<table border=\"1\" class=\"dataframe\">\n",
              "  <thead>\n",
              "    <tr style=\"text-align: right;\">\n",
              "      <th></th>\n",
              "      <th>product_id</th>\n",
              "      <th>category_id</th>\n",
              "      <th>brand</th>\n",
              "      <th>price</th>\n",
              "      <th>user_id</th>\n",
              "      <th>division1</th>\n",
              "      <th>division2</th>\n",
              "      <th>rating</th>\n",
              "    </tr>\n",
              "  </thead>\n",
              "  <tbody>\n",
              "    <tr>\n",
              "      <th>0</th>\n",
              "      <td>1307067</td>\n",
              "      <td>2053013558920217191</td>\n",
              "      <td>lenovo</td>\n",
              "      <td>251.74</td>\n",
              "      <td>550050854</td>\n",
              "      <td>computers</td>\n",
              "      <td>notebook</td>\n",
              "      <td>1.5</td>\n",
              "    </tr>\n",
              "    <tr>\n",
              "      <th>1</th>\n",
              "      <td>1004237</td>\n",
              "      <td>2053013555631882655</td>\n",
              "      <td>apple</td>\n",
              "      <td>1081.98</td>\n",
              "      <td>535871217</td>\n",
              "      <td>electronics</td>\n",
              "      <td>smartphone</td>\n",
              "      <td>1.5</td>\n",
              "    </tr>\n",
              "    <tr>\n",
              "      <th>2</th>\n",
              "      <td>1306631</td>\n",
              "      <td>2053013558920217191</td>\n",
              "      <td>hp</td>\n",
              "      <td>580.89</td>\n",
              "      <td>550050854</td>\n",
              "      <td>computers</td>\n",
              "      <td>notebook</td>\n",
              "      <td>1.5</td>\n",
              "    </tr>\n",
              "    <tr>\n",
              "      <th>3</th>\n",
              "      <td>1005135</td>\n",
              "      <td>2053013555631882655</td>\n",
              "      <td>apple</td>\n",
              "      <td>1747.79</td>\n",
              "      <td>535871217</td>\n",
              "      <td>electronics</td>\n",
              "      <td>smartphone</td>\n",
              "      <td>1.5</td>\n",
              "    </tr>\n",
              "    <tr>\n",
              "      <th>4</th>\n",
              "      <td>2700239</td>\n",
              "      <td>2053013563911439225</td>\n",
              "      <td>atlant</td>\n",
              "      <td>283.12</td>\n",
              "      <td>521242564</td>\n",
              "      <td>appliances</td>\n",
              "      <td>kitchen</td>\n",
              "      <td>1.5</td>\n",
              "    </tr>\n",
              "    <tr>\n",
              "      <th>...</th>\n",
              "      <td>...</td>\n",
              "      <td>...</td>\n",
              "      <td>...</td>\n",
              "      <td>...</td>\n",
              "      <td>...</td>\n",
              "      <td>...</td>\n",
              "      <td>...</td>\n",
              "      <td>...</td>\n",
              "    </tr>\n",
              "    <tr>\n",
              "      <th>6721646</th>\n",
              "      <td>1004565</td>\n",
              "      <td>2053013555631882655</td>\n",
              "      <td>huawei</td>\n",
              "      <td>164.95</td>\n",
              "      <td>566143627</td>\n",
              "      <td>electronics</td>\n",
              "      <td>smartphone</td>\n",
              "      <td>1.5</td>\n",
              "    </tr>\n",
              "    <tr>\n",
              "      <th>6721647</th>\n",
              "      <td>16700260</td>\n",
              "      <td>2053013559901684381</td>\n",
              "      <td>unknown</td>\n",
              "      <td>31.64</td>\n",
              "      <td>566255262</td>\n",
              "      <td>furniture</td>\n",
              "      <td>kitchen</td>\n",
              "      <td>1.5</td>\n",
              "    </tr>\n",
              "    <tr>\n",
              "      <th>6721648</th>\n",
              "      <td>1002786</td>\n",
              "      <td>2053013555631882655</td>\n",
              "      <td>unknown</td>\n",
              "      <td>391.26</td>\n",
              "      <td>512789086</td>\n",
              "      <td>electronics</td>\n",
              "      <td>smartphone</td>\n",
              "      <td>1.5</td>\n",
              "    </tr>\n",
              "    <tr>\n",
              "      <th>6721649</th>\n",
              "      <td>1005008</td>\n",
              "      <td>2053013555631882655</td>\n",
              "      <td>xiaomi</td>\n",
              "      <td>94.46</td>\n",
              "      <td>557202408</td>\n",
              "      <td>electronics</td>\n",
              "      <td>smartphone</td>\n",
              "      <td>1.5</td>\n",
              "    </tr>\n",
              "    <tr>\n",
              "      <th>6721650</th>\n",
              "      <td>2702331</td>\n",
              "      <td>2053013563911439225</td>\n",
              "      <td>lg</td>\n",
              "      <td>527.43</td>\n",
              "      <td>524356542</td>\n",
              "      <td>appliances</td>\n",
              "      <td>kitchen</td>\n",
              "      <td>1.5</td>\n",
              "    </tr>\n",
              "  </tbody>\n",
              "</table>\n",
              "<p>6721651 rows × 8 columns</p>\n",
              "</div>\n",
              "      <button class=\"colab-df-convert\" onclick=\"convertToInteractive('df-62a65346-acbc-4419-80df-0e314625e166')\"\n",
              "              title=\"Convert this dataframe to an interactive table.\"\n",
              "              style=\"display:none;\">\n",
              "        \n",
              "  <svg xmlns=\"http://www.w3.org/2000/svg\" height=\"24px\"viewBox=\"0 0 24 24\"\n",
              "       width=\"24px\">\n",
              "    <path d=\"M0 0h24v24H0V0z\" fill=\"none\"/>\n",
              "    <path d=\"M18.56 5.44l.94 2.06.94-2.06 2.06-.94-2.06-.94-.94-2.06-.94 2.06-2.06.94zm-11 1L8.5 8.5l.94-2.06 2.06-.94-2.06-.94L8.5 2.5l-.94 2.06-2.06.94zm10 10l.94 2.06.94-2.06 2.06-.94-2.06-.94-.94-2.06-.94 2.06-2.06.94z\"/><path d=\"M17.41 7.96l-1.37-1.37c-.4-.4-.92-.59-1.43-.59-.52 0-1.04.2-1.43.59L10.3 9.45l-7.72 7.72c-.78.78-.78 2.05 0 2.83L4 21.41c.39.39.9.59 1.41.59.51 0 1.02-.2 1.41-.59l7.78-7.78 2.81-2.81c.8-.78.8-2.07 0-2.86zM5.41 20L4 18.59l7.72-7.72 1.47 1.35L5.41 20z\"/>\n",
              "  </svg>\n",
              "      </button>\n",
              "      \n",
              "  <style>\n",
              "    .colab-df-container {\n",
              "      display:flex;\n",
              "      flex-wrap:wrap;\n",
              "      gap: 12px;\n",
              "    }\n",
              "\n",
              "    .colab-df-convert {\n",
              "      background-color: #E8F0FE;\n",
              "      border: none;\n",
              "      border-radius: 50%;\n",
              "      cursor: pointer;\n",
              "      display: none;\n",
              "      fill: #1967D2;\n",
              "      height: 32px;\n",
              "      padding: 0 0 0 0;\n",
              "      width: 32px;\n",
              "    }\n",
              "\n",
              "    .colab-df-convert:hover {\n",
              "      background-color: #E2EBFA;\n",
              "      box-shadow: 0px 1px 2px rgba(60, 64, 67, 0.3), 0px 1px 3px 1px rgba(60, 64, 67, 0.15);\n",
              "      fill: #174EA6;\n",
              "    }\n",
              "\n",
              "    [theme=dark] .colab-df-convert {\n",
              "      background-color: #3B4455;\n",
              "      fill: #D2E3FC;\n",
              "    }\n",
              "\n",
              "    [theme=dark] .colab-df-convert:hover {\n",
              "      background-color: #434B5C;\n",
              "      box-shadow: 0px 1px 3px 1px rgba(0, 0, 0, 0.15);\n",
              "      filter: drop-shadow(0px 1px 2px rgba(0, 0, 0, 0.3));\n",
              "      fill: #FFFFFF;\n",
              "    }\n",
              "  </style>\n",
              "\n",
              "      <script>\n",
              "        const buttonEl =\n",
              "          document.querySelector('#df-62a65346-acbc-4419-80df-0e314625e166 button.colab-df-convert');\n",
              "        buttonEl.style.display =\n",
              "          google.colab.kernel.accessAllowed ? 'block' : 'none';\n",
              "\n",
              "        async function convertToInteractive(key) {\n",
              "          const element = document.querySelector('#df-62a65346-acbc-4419-80df-0e314625e166');\n",
              "          const dataTable =\n",
              "            await google.colab.kernel.invokeFunction('convertToInteractive',\n",
              "                                                     [key], {});\n",
              "          if (!dataTable) return;\n",
              "\n",
              "          const docLinkHtml = 'Like what you see? Visit the ' +\n",
              "            '<a target=\"_blank\" href=https://colab.research.google.com/notebooks/data_table.ipynb>data table notebook</a>'\n",
              "            + ' to learn more about interactive tables.';\n",
              "          element.innerHTML = '';\n",
              "          dataTable['output_type'] = 'display_data';\n",
              "          await google.colab.output.renderOutput(dataTable, element);\n",
              "          const docLink = document.createElement('div');\n",
              "          docLink.innerHTML = docLinkHtml;\n",
              "          element.appendChild(docLink);\n",
              "        }\n",
              "      </script>\n",
              "    </div>\n",
              "  </div>\n",
              "  "
            ]
          },
          "metadata": {},
          "execution_count": 6
        },
        {
          "output_type": "stream",
          "name": "stdout",
          "text": [
            "Warning: total number of rows (6721651) exceeds max_rows (20000). Limiting to first (20000) rows.\n"
          ]
        }
      ]
    },
    {
      "cell_type": "markdown",
      "source": [
        "# **Surprise 모델 사용**"
      ],
      "metadata": {
        "id": "BMLkI3XVCWSz"
      }
    },
    {
      "cell_type": "code",
      "source": [
        "!pip install scikit-surprise"
      ],
      "metadata": {
        "colab": {
          "base_uri": "https://localhost:8080/"
        },
        "id": "sqQvNtEjVeKQ",
        "outputId": "e883c880-7972-4c85-e03c-4632bd8cb6e2"
      },
      "execution_count": 10,
      "outputs": [
        {
          "output_type": "stream",
          "name": "stdout",
          "text": [
            "Looking in indexes: https://pypi.org/simple, https://us-python.pkg.dev/colab-wheels/public/simple/\n",
            "Requirement already satisfied: scikit-surprise in /usr/local/lib/python3.7/dist-packages (1.1.1)\n",
            "Requirement already satisfied: joblib>=0.11 in /usr/local/lib/python3.7/dist-packages (from scikit-surprise) (1.2.0)\n",
            "Requirement already satisfied: six>=1.10.0 in /usr/local/lib/python3.7/dist-packages (from scikit-surprise) (1.15.0)\n",
            "Requirement already satisfied: scipy>=1.0.0 in /usr/local/lib/python3.7/dist-packages (from scikit-surprise) (1.7.3)\n",
            "Requirement already satisfied: numpy>=1.11.2 in /usr/local/lib/python3.7/dist-packages (from scikit-surprise) (1.21.6)\n"
          ]
        }
      ]
    },
    {
      "cell_type": "code",
      "source": [
        "import pandas as pd\n",
        "from surprise import SVD, BaselineOnly, SVDpp, Reader\n",
        "from surprise import Dataset\n",
        "from surprise.model_selection import cross_validate\n",
        "from surprise.prediction_algorithms import KNNBaseline\n",
        "from surprise.model_selection import GridSearchCV\n",
        "from surprise import KNNBasic\n",
        "from surprise import accuracy\n",
        "from surprise import dump\n",
        "from surprise.model_selection import KFold\n",
        "from surprise import NormalPredictor\n",
        "from sklearn.metrics.pairwise import linear_kernel, cosine_similarity\n",
        "from surprise.model_selection import train_test_split\n"
      ],
      "metadata": {
        "id": "yUd93O5MVfmc"
      },
      "execution_count": 11,
      "outputs": []
    },
    {
      "cell_type": "markdown",
      "source": [
        "데이터셋 나누기"
      ],
      "metadata": {
        "id": "wa8gMneYCaaB"
      }
    },
    {
      "cell_type": "code",
      "source": [
        "# surprise 모듈의 훈련,테스트 모듈 나누는것과 비슷한 방법으로 데이터 분리 진행\n",
        "\n",
        "# train, test split\n",
        "\n",
        "# 데이터 랜덤하게 섞기\n",
        "df_r_m = df_cat.sample(frac=1)\n",
        "\n",
        "# 7:3 비율로 나누기\n",
        "cutoff = int(.7 * len(df_r_m))\n",
        "train_r = df_r_m[:cutoff]\n",
        "test_r = df_r_m[cutoff:]\n",
        "\n",
        "\n",
        "train_r = train_r[['user_id', 'product_id', 'rating', 'division2', 'brand']]\n",
        "test_r = test_r[['user_id', 'product_id', 'rating', 'division2', 'brand']]\n",
        "print(\"train_size:\", len(train_r), \"test_size:\", len(test_r))\n",
        "\n",
        "train_r.head()"
      ],
      "metadata": {
        "colab": {
          "base_uri": "https://localhost:8080/",
          "height": 225
        },
        "id": "VxQ9jd9VVq5f",
        "outputId": "ecb0a770-8360-487e-f163-2d678c65365b"
      },
      "execution_count": 12,
      "outputs": [
        {
          "output_type": "stream",
          "name": "stdout",
          "text": [
            "train_size: 4705155 test_size: 2016496\n"
          ]
        },
        {
          "output_type": "execute_result",
          "data": {
            "text/plain": [
              "           user_id  product_id  rating   division2    brand\n",
              "1277629  543500703     1004903     3.1  smartphone   huawei\n",
              "814203   546862281     1004650     1.5  smartphone  samsung\n",
              "5926385  518316420     1307070     1.5    notebook     acer\n",
              "6452097  550829569    16900018     1.5     kitchen  unknown\n",
              "3453235  550788138     1002633     1.5  smartphone    apple"
            ],
            "text/html": [
              "\n",
              "  <div id=\"df-54cc7acf-7f31-4581-9382-4a8f9e8cfc47\">\n",
              "    <div class=\"colab-df-container\">\n",
              "      <div>\n",
              "<style scoped>\n",
              "    .dataframe tbody tr th:only-of-type {\n",
              "        vertical-align: middle;\n",
              "    }\n",
              "\n",
              "    .dataframe tbody tr th {\n",
              "        vertical-align: top;\n",
              "    }\n",
              "\n",
              "    .dataframe thead th {\n",
              "        text-align: right;\n",
              "    }\n",
              "</style>\n",
              "<table border=\"1\" class=\"dataframe\">\n",
              "  <thead>\n",
              "    <tr style=\"text-align: right;\">\n",
              "      <th></th>\n",
              "      <th>user_id</th>\n",
              "      <th>product_id</th>\n",
              "      <th>rating</th>\n",
              "      <th>division2</th>\n",
              "      <th>brand</th>\n",
              "    </tr>\n",
              "  </thead>\n",
              "  <tbody>\n",
              "    <tr>\n",
              "      <th>1277629</th>\n",
              "      <td>543500703</td>\n",
              "      <td>1004903</td>\n",
              "      <td>3.1</td>\n",
              "      <td>smartphone</td>\n",
              "      <td>huawei</td>\n",
              "    </tr>\n",
              "    <tr>\n",
              "      <th>814203</th>\n",
              "      <td>546862281</td>\n",
              "      <td>1004650</td>\n",
              "      <td>1.5</td>\n",
              "      <td>smartphone</td>\n",
              "      <td>samsung</td>\n",
              "    </tr>\n",
              "    <tr>\n",
              "      <th>5926385</th>\n",
              "      <td>518316420</td>\n",
              "      <td>1307070</td>\n",
              "      <td>1.5</td>\n",
              "      <td>notebook</td>\n",
              "      <td>acer</td>\n",
              "    </tr>\n",
              "    <tr>\n",
              "      <th>6452097</th>\n",
              "      <td>550829569</td>\n",
              "      <td>16900018</td>\n",
              "      <td>1.5</td>\n",
              "      <td>kitchen</td>\n",
              "      <td>unknown</td>\n",
              "    </tr>\n",
              "    <tr>\n",
              "      <th>3453235</th>\n",
              "      <td>550788138</td>\n",
              "      <td>1002633</td>\n",
              "      <td>1.5</td>\n",
              "      <td>smartphone</td>\n",
              "      <td>apple</td>\n",
              "    </tr>\n",
              "  </tbody>\n",
              "</table>\n",
              "</div>\n",
              "      <button class=\"colab-df-convert\" onclick=\"convertToInteractive('df-54cc7acf-7f31-4581-9382-4a8f9e8cfc47')\"\n",
              "              title=\"Convert this dataframe to an interactive table.\"\n",
              "              style=\"display:none;\">\n",
              "        \n",
              "  <svg xmlns=\"http://www.w3.org/2000/svg\" height=\"24px\"viewBox=\"0 0 24 24\"\n",
              "       width=\"24px\">\n",
              "    <path d=\"M0 0h24v24H0V0z\" fill=\"none\"/>\n",
              "    <path d=\"M18.56 5.44l.94 2.06.94-2.06 2.06-.94-2.06-.94-.94-2.06-.94 2.06-2.06.94zm-11 1L8.5 8.5l.94-2.06 2.06-.94-2.06-.94L8.5 2.5l-.94 2.06-2.06.94zm10 10l.94 2.06.94-2.06 2.06-.94-2.06-.94-.94-2.06-.94 2.06-2.06.94z\"/><path d=\"M17.41 7.96l-1.37-1.37c-.4-.4-.92-.59-1.43-.59-.52 0-1.04.2-1.43.59L10.3 9.45l-7.72 7.72c-.78.78-.78 2.05 0 2.83L4 21.41c.39.39.9.59 1.41.59.51 0 1.02-.2 1.41-.59l7.78-7.78 2.81-2.81c.8-.78.8-2.07 0-2.86zM5.41 20L4 18.59l7.72-7.72 1.47 1.35L5.41 20z\"/>\n",
              "  </svg>\n",
              "      </button>\n",
              "      \n",
              "  <style>\n",
              "    .colab-df-container {\n",
              "      display:flex;\n",
              "      flex-wrap:wrap;\n",
              "      gap: 12px;\n",
              "    }\n",
              "\n",
              "    .colab-df-convert {\n",
              "      background-color: #E8F0FE;\n",
              "      border: none;\n",
              "      border-radius: 50%;\n",
              "      cursor: pointer;\n",
              "      display: none;\n",
              "      fill: #1967D2;\n",
              "      height: 32px;\n",
              "      padding: 0 0 0 0;\n",
              "      width: 32px;\n",
              "    }\n",
              "\n",
              "    .colab-df-convert:hover {\n",
              "      background-color: #E2EBFA;\n",
              "      box-shadow: 0px 1px 2px rgba(60, 64, 67, 0.3), 0px 1px 3px 1px rgba(60, 64, 67, 0.15);\n",
              "      fill: #174EA6;\n",
              "    }\n",
              "\n",
              "    [theme=dark] .colab-df-convert {\n",
              "      background-color: #3B4455;\n",
              "      fill: #D2E3FC;\n",
              "    }\n",
              "\n",
              "    [theme=dark] .colab-df-convert:hover {\n",
              "      background-color: #434B5C;\n",
              "      box-shadow: 0px 1px 3px 1px rgba(0, 0, 0, 0.15);\n",
              "      filter: drop-shadow(0px 1px 2px rgba(0, 0, 0, 0.3));\n",
              "      fill: #FFFFFF;\n",
              "    }\n",
              "  </style>\n",
              "\n",
              "      <script>\n",
              "        const buttonEl =\n",
              "          document.querySelector('#df-54cc7acf-7f31-4581-9382-4a8f9e8cfc47 button.colab-df-convert');\n",
              "        buttonEl.style.display =\n",
              "          google.colab.kernel.accessAllowed ? 'block' : 'none';\n",
              "\n",
              "        async function convertToInteractive(key) {\n",
              "          const element = document.querySelector('#df-54cc7acf-7f31-4581-9382-4a8f9e8cfc47');\n",
              "          const dataTable =\n",
              "            await google.colab.kernel.invokeFunction('convertToInteractive',\n",
              "                                                     [key], {});\n",
              "          if (!dataTable) return;\n",
              "\n",
              "          const docLinkHtml = 'Like what you see? Visit the ' +\n",
              "            '<a target=\"_blank\" href=https://colab.research.google.com/notebooks/data_table.ipynb>data table notebook</a>'\n",
              "            + ' to learn more about interactive tables.';\n",
              "          element.innerHTML = '';\n",
              "          dataTable['output_type'] = 'display_data';\n",
              "          await google.colab.output.renderOutput(dataTable, element);\n",
              "          const docLink = document.createElement('div');\n",
              "          docLink.innerHTML = docLinkHtml;\n",
              "          element.appendChild(docLink);\n",
              "        }\n",
              "      </script>\n",
              "    </div>\n",
              "  </div>\n",
              "  "
            ]
          },
          "metadata": {},
          "execution_count": 12
        }
      ]
    },
    {
      "cell_type": "code",
      "source": [
        "def convert_traintest_dataframe_forsurprise(training_dataframe, testing_dataframe):\n",
        "    reader = Reader(rating_scale=(1, 5))\n",
        "    trainset = Dataset.load_from_df(training_dataframe[['user_id', 'product_id', 'rating']], reader)\n",
        "    testset = Dataset.load_from_df(testing_dataframe[['user_id', 'product_id', 'rating']], reader)\n",
        "    \n",
        "    trainset = trainset.construct_trainset(trainset.raw_ratings)\n",
        "    testset = testset.construct_testset(testset.raw_ratings)\n",
        "    \n",
        "    return trainset, testset\n",
        "\n",
        "trainset, testset = convert_traintest_dataframe_forsurprise(train_r, test_r)"
      ],
      "metadata": {
        "id": "oU1uMf9uVsbn"
      },
      "execution_count": 13,
      "outputs": []
    },
    {
      "cell_type": "markdown",
      "source": [
        "surprise 사용법: \n",
        "\n",
        "\n",
        "**surprise 라이브러리\n",
        "\n",
        "test()는 사용자-아이템 평점 데이터 세트 전체에 대해서 추천을 예측하는 메서드. 즉 입력된 데이터 세트에 대해 추천 데이터 세트를 만들어준다.\n",
        "\n",
        "predict()는 개별 사용자와 영화에 대한 추천 평점을 반환해준다.\n",
        "\n",
        "uid(개별 사용자 아이디), 아이템(iid), 실제 평점(r_ui), 정보에 기반한 surprise의 추천 예측 평점(est)\n",
        "\n",
        "details 속성은 내부 처리 시 추천 예측을 할 수 없는 경우에 로그용으로 데이터를 남기는데 사용된다. (was_impossible이 True이면 예측값을 생성할 수 없는 데이터 라는 의미)\n",
        "\n",
        "리스트 객체 내에 내포된 Prediction 개체의 uid, iid, r_ri, est 등의 속성에 접근하려면 객체명.uid와 같은 형식으로 가능하다.\n",
        "\n",
        "\n",
        "\n",
        "**predict()를 사용한 예측 \n",
        "\n",
        "개별 사용자의 아이템에 대한 추천 평점을 예측해준다. \n",
        "\n",
        "인자로 개별 사용자 아이디, 아이템 아이디를 입력하면 추천 예측 평점을 포함한 정보를 반환한다. (사용자 아이디, 아이템 아이디는 문자열로 입력해야 한다)"
      ],
      "metadata": {
        "id": "EMvTxYcfCgcD"
      }
    },
    {
      "cell_type": "markdown",
      "source": [
        "# **KNN 모델과 SVD 모델**"
      ],
      "metadata": {
        "id": "A0jUnsOjotRD"
      }
    },
    {
      "cell_type": "code",
      "source": [
        "# basic collaborative filtering algorithm taking into account a baseline rating.\n",
        "# content-based filtering (CBF)\n",
        "\n",
        "sim_options = {'name': 'cosine',   # 코사인 유사도 기반\n",
        "               'user_based': False  # 아이템 기반 similarity\n",
        "               }\n",
        "knnbaseline_algo_i = KNNBaseline(sim_options=sim_options)\n",
        "\n",
        "knnbaseline_algo_i.fit(trainset)\n",
        "knnbaseline_predictions_i = knnbaseline_algo_i.test(testset)\n",
        "\n",
        "file_name = 'KnnBaseline_model_i'\n",
        "dump.dump(file_name, algo=knnbaseline_predictions_i)\n",
        "# _, loaded_algo = dump.load(file_name)\n",
        "\n",
        "\n",
        "# RSME 와 MAE 수치\n",
        "accuracy.rmse(knnbaseline_predictions_i)\n",
        "accuracy.mae(knnbaseline_predictions_i)\n",
        "print(\"Done!\")"
      ],
      "metadata": {
        "colab": {
          "base_uri": "https://localhost:8080/"
        },
        "id": "scDIG5CR9zWo",
        "outputId": "526ee098-64c4-49b4-f212-ca30eb882dc0"
      },
      "execution_count": 14,
      "outputs": [
        {
          "output_type": "stream",
          "name": "stdout",
          "text": [
            "Estimating biases using als...\n",
            "Computing the cosine similarity matrix...\n",
            "Done computing similarity matrix.\n",
            "RMSE: 0.1751\n",
            "MAE:  0.0686\n",
            "Done!\n"
          ]
        }
      ]
    },
    {
      "cell_type": "code",
      "source": [
        "# 테스트 데이터 세트 전체에 대해 추천 아이템 평점 데이터를 생성 후 5개만 추출함\n",
        "print('prediction type :', type(knnbaseline_predictions_i), ' size:', len(knnbaseline_predictions_i))\n",
        "print('prediction 결과의 최초 5개 추출')\n",
        "knnbaseline_predictions_i[:5]"
      ],
      "metadata": {
        "colab": {
          "base_uri": "https://localhost:8080/"
        },
        "id": "eLke7JQe90Bf",
        "outputId": "cea69bfb-d21c-4dcb-9d9d-fc790a43bf95"
      },
      "execution_count": 26,
      "outputs": [
        {
          "output_type": "stream",
          "name": "stdout",
          "text": [
            "prediction type : <class 'list'>  size: 2016496\n",
            "prediction 결과의 최초 5개 추출\n"
          ]
        },
        {
          "output_type": "execute_result",
          "data": {
            "text/plain": [
              "[Prediction(uid=523908254, iid=12600028, r_ui=1.5, est=1.456587773163651, details={'actual_k': 21, 'was_impossible': False}),\n",
              " Prediction(uid=513933577, iid=1002542, r_ui=1.5, est=1.5106195335115054, details={'actual_k': 35, 'was_impossible': False}),\n",
              " Prediction(uid=551290536, iid=1004726, r_ui=1.5, est=1.4584726521316977, details={'actual_k': 10, 'was_impossible': False}),\n",
              " Prediction(uid=519194946, iid=1004750, r_ui=1.5, est=1.5541702663454455, details={'actual_k': 16, 'was_impossible': False}),\n",
              " Prediction(uid=557394658, iid=1003549, r_ui=3.1, est=3.058400428154637, details={'actual_k': 40, 'was_impossible': False})]"
            ]
          },
          "metadata": {},
          "execution_count": 26
        }
      ]
    },
    {
      "cell_type": "code",
      "source": [
        "# uid, iid, r_ui(실제 평점) ,est(예측평점) 추출\n",
        "\n",
        "[(pred.uid, pred.iid, pred.est) for pred in knnbaseline_predictions_i[:3]]"
      ],
      "metadata": {
        "colab": {
          "base_uri": "https://localhost:8080/"
        },
        "id": "QTtkrr5L91xf",
        "outputId": "bacef218-17d4-4da7-f0ad-281fd323b4b4"
      },
      "execution_count": 16,
      "outputs": [
        {
          "output_type": "execute_result",
          "data": {
            "text/plain": [
              "[(523908254, 12600028, 1.456587773163651),\n",
              " (513933577, 1002542, 1.5106195335115054),\n",
              " (551290536, 1004726, 1.4584726521316977)]"
            ]
          },
          "metadata": {},
          "execution_count": 16
        }
      ]
    },
    {
      "cell_type": "code",
      "source": [
        "# uid = 564085761 에 대한 유사도 높은 예측 iid, est 조회. \n",
        "\n",
        "pred_df = pd.DataFrame(knnbaseline_predictions_i)\n",
        "pred_df[(pred_df['uid']==564085761)]"
      ],
      "metadata": {
        "colab": {
          "base_uri": "https://localhost:8080/",
          "height": 143
        },
        "id": "VXIWKrJd93XG",
        "outputId": "f0cb603c-4cd5-4608-9d50-3c7796a20a0b"
      },
      "execution_count": 31,
      "outputs": [
        {
          "output_type": "execute_result",
          "data": {
            "text/plain": [
              "               uid      iid  r_ui       est  \\\n",
              "438991   564085761  1004258   1.5  1.527637   \n",
              "1536591  564085761  1004259   1.5  1.553151   \n",
              "1996151  564085761  1004258   1.5  1.527637   \n",
              "\n",
              "                                           details  \n",
              "438991   {'actual_k': 12, 'was_impossible': False}  \n",
              "1536591  {'actual_k': 12, 'was_impossible': False}  \n",
              "1996151  {'actual_k': 12, 'was_impossible': False}  "
            ],
            "text/html": [
              "\n",
              "  <div id=\"df-846f7a20-6bdf-4857-834e-83e1c84b2cc6\">\n",
              "    <div class=\"colab-df-container\">\n",
              "      <div>\n",
              "<style scoped>\n",
              "    .dataframe tbody tr th:only-of-type {\n",
              "        vertical-align: middle;\n",
              "    }\n",
              "\n",
              "    .dataframe tbody tr th {\n",
              "        vertical-align: top;\n",
              "    }\n",
              "\n",
              "    .dataframe thead th {\n",
              "        text-align: right;\n",
              "    }\n",
              "</style>\n",
              "<table border=\"1\" class=\"dataframe\">\n",
              "  <thead>\n",
              "    <tr style=\"text-align: right;\">\n",
              "      <th></th>\n",
              "      <th>uid</th>\n",
              "      <th>iid</th>\n",
              "      <th>r_ui</th>\n",
              "      <th>est</th>\n",
              "      <th>details</th>\n",
              "    </tr>\n",
              "  </thead>\n",
              "  <tbody>\n",
              "    <tr>\n",
              "      <th>438991</th>\n",
              "      <td>564085761</td>\n",
              "      <td>1004258</td>\n",
              "      <td>1.5</td>\n",
              "      <td>1.527637</td>\n",
              "      <td>{'actual_k': 12, 'was_impossible': False}</td>\n",
              "    </tr>\n",
              "    <tr>\n",
              "      <th>1536591</th>\n",
              "      <td>564085761</td>\n",
              "      <td>1004259</td>\n",
              "      <td>1.5</td>\n",
              "      <td>1.553151</td>\n",
              "      <td>{'actual_k': 12, 'was_impossible': False}</td>\n",
              "    </tr>\n",
              "    <tr>\n",
              "      <th>1996151</th>\n",
              "      <td>564085761</td>\n",
              "      <td>1004258</td>\n",
              "      <td>1.5</td>\n",
              "      <td>1.527637</td>\n",
              "      <td>{'actual_k': 12, 'was_impossible': False}</td>\n",
              "    </tr>\n",
              "  </tbody>\n",
              "</table>\n",
              "</div>\n",
              "      <button class=\"colab-df-convert\" onclick=\"convertToInteractive('df-846f7a20-6bdf-4857-834e-83e1c84b2cc6')\"\n",
              "              title=\"Convert this dataframe to an interactive table.\"\n",
              "              style=\"display:none;\">\n",
              "        \n",
              "  <svg xmlns=\"http://www.w3.org/2000/svg\" height=\"24px\"viewBox=\"0 0 24 24\"\n",
              "       width=\"24px\">\n",
              "    <path d=\"M0 0h24v24H0V0z\" fill=\"none\"/>\n",
              "    <path d=\"M18.56 5.44l.94 2.06.94-2.06 2.06-.94-2.06-.94-.94-2.06-.94 2.06-2.06.94zm-11 1L8.5 8.5l.94-2.06 2.06-.94-2.06-.94L8.5 2.5l-.94 2.06-2.06.94zm10 10l.94 2.06.94-2.06 2.06-.94-2.06-.94-.94-2.06-.94 2.06-2.06.94z\"/><path d=\"M17.41 7.96l-1.37-1.37c-.4-.4-.92-.59-1.43-.59-.52 0-1.04.2-1.43.59L10.3 9.45l-7.72 7.72c-.78.78-.78 2.05 0 2.83L4 21.41c.39.39.9.59 1.41.59.51 0 1.02-.2 1.41-.59l7.78-7.78 2.81-2.81c.8-.78.8-2.07 0-2.86zM5.41 20L4 18.59l7.72-7.72 1.47 1.35L5.41 20z\"/>\n",
              "  </svg>\n",
              "      </button>\n",
              "      \n",
              "  <style>\n",
              "    .colab-df-container {\n",
              "      display:flex;\n",
              "      flex-wrap:wrap;\n",
              "      gap: 12px;\n",
              "    }\n",
              "\n",
              "    .colab-df-convert {\n",
              "      background-color: #E8F0FE;\n",
              "      border: none;\n",
              "      border-radius: 50%;\n",
              "      cursor: pointer;\n",
              "      display: none;\n",
              "      fill: #1967D2;\n",
              "      height: 32px;\n",
              "      padding: 0 0 0 0;\n",
              "      width: 32px;\n",
              "    }\n",
              "\n",
              "    .colab-df-convert:hover {\n",
              "      background-color: #E2EBFA;\n",
              "      box-shadow: 0px 1px 2px rgba(60, 64, 67, 0.3), 0px 1px 3px 1px rgba(60, 64, 67, 0.15);\n",
              "      fill: #174EA6;\n",
              "    }\n",
              "\n",
              "    [theme=dark] .colab-df-convert {\n",
              "      background-color: #3B4455;\n",
              "      fill: #D2E3FC;\n",
              "    }\n",
              "\n",
              "    [theme=dark] .colab-df-convert:hover {\n",
              "      background-color: #434B5C;\n",
              "      box-shadow: 0px 1px 3px 1px rgba(0, 0, 0, 0.15);\n",
              "      filter: drop-shadow(0px 1px 2px rgba(0, 0, 0, 0.3));\n",
              "      fill: #FFFFFF;\n",
              "    }\n",
              "  </style>\n",
              "\n",
              "      <script>\n",
              "        const buttonEl =\n",
              "          document.querySelector('#df-846f7a20-6bdf-4857-834e-83e1c84b2cc6 button.colab-df-convert');\n",
              "        buttonEl.style.display =\n",
              "          google.colab.kernel.accessAllowed ? 'block' : 'none';\n",
              "\n",
              "        async function convertToInteractive(key) {\n",
              "          const element = document.querySelector('#df-846f7a20-6bdf-4857-834e-83e1c84b2cc6');\n",
              "          const dataTable =\n",
              "            await google.colab.kernel.invokeFunction('convertToInteractive',\n",
              "                                                     [key], {});\n",
              "          if (!dataTable) return;\n",
              "\n",
              "          const docLinkHtml = 'Like what you see? Visit the ' +\n",
              "            '<a target=\"_blank\" href=https://colab.research.google.com/notebooks/data_table.ipynb>data table notebook</a>'\n",
              "            + ' to learn more about interactive tables.';\n",
              "          element.innerHTML = '';\n",
              "          dataTable['output_type'] = 'display_data';\n",
              "          await google.colab.output.renderOutput(dataTable, element);\n",
              "          const docLink = document.createElement('div');\n",
              "          docLink.innerHTML = docLinkHtml;\n",
              "          element.appendChild(docLink);\n",
              "        }\n",
              "      </script>\n",
              "    </div>\n",
              "  </div>\n",
              "  "
            ]
          },
          "metadata": {},
          "execution_count": 31
        }
      ]
    },
    {
      "cell_type": "code",
      "source": [
        "# 임의의 user와 item을 입력했을 때 추천평점\n",
        "\n",
        "user_id = str(518689178)\n",
        "item_id = str(1004709)\n",
        "\n",
        "pred = knnbaseline_algo_i.predict(user_id, item_id)\n",
        "print(pred)"
      ],
      "metadata": {
        "colab": {
          "base_uri": "https://localhost:8080/"
        },
        "id": "CgGKloILT7sT",
        "outputId": "0f049fa7-15e9-4cfb-9a19-90e866a256fb"
      },
      "execution_count": 32,
      "outputs": [
        {
          "output_type": "stream",
          "name": "stdout",
          "text": [
            "user: 518689178  item: 1004709    r_ui = None   est = 1.83   {'was_impossible': False}\n"
          ]
        }
      ]
    },
    {
      "cell_type": "code",
      "source": [
        "# '유저가 확인한 item 수 / 추천 item 수 / 전체 item 수' 반환하는 함수\n",
        "\n",
        "def get_unseen_surprise(df, userID):\n",
        "    # 입력값으로 들어온 userID에 해당하는 사용자가 봤던 모든 item을 리스트로 생성\n",
        "    seen_items = df[df['user_id']==userID]['product_id'].tolist()\n",
        "\n",
        "    # 모든 아이템의 product_id를 리스트로 생성.\n",
        "    total_items = df['product_id'].tolist()\n",
        "\n",
        "    # 모든 아이템의 product_id 중 이미 봤던 아이템의 ID를 제외한 후 리스트로 생성\n",
        "    unseen_items = [item for item in total_items if item not in seen_items]\n",
        "    print('봤던 아이템 수:', len(seen_items), '추천 대상 아이템 수:', len(unseen_items), \n",
        "          '전체 아이템 수:', len(total_items))\n",
        "    \n",
        "    return unseen_items\n",
        "\n",
        "# 유저 '550346297'의 결과\n",
        "\n",
        "unseen_items = get_unseen_surprise(df_cat, 550346297)"
      ],
      "metadata": {
        "colab": {
          "base_uri": "https://localhost:8080/"
        },
        "id": "0b4lq8-GWYR6",
        "outputId": "45026547-b99b-4556-e297-c3c0514fd423"
      },
      "execution_count": 33,
      "outputs": [
        {
          "output_type": "stream",
          "name": "stdout",
          "text": [
            "봤던 아이템 수: 15 추천 대상 아이템 수: 6631739 전체 아이템 수: 6721651\n"
          ]
        }
      ]
    },
    {
      "cell_type": "code",
      "source": [
        "# surprise 모델 활용한 10개의 추천 아이템\n",
        "# df를 직접 넣어주는 경우\n",
        "\n",
        "def recomm_item_by_surprise(algo, df, userID, unseen_items, top_n=10):\n",
        "    # 알고리즘 객체의 predict() 메서드를 본 적이 없는 아이템에 반복 수행한 후 결과를 list로 저장\n",
        "    predictions = [algo.predict(str(userID), str(item_id)) for item_id in unseen_items]\n",
        "\n",
        "    def sortkey_est(pred):\n",
        "        return pred.est\n",
        "\n",
        "    # sortkey_est() 반환값의 내림 차순으로 정렬 수행하고 top_n개의 최상위 값 추출.\n",
        "    predictions.sort(key=sortkey_est, reverse=True)\n",
        "    top_predictions = predictions[:top_n]\n",
        "\n",
        "    # top_n으로 추출된 아이템의 정보 추출. user_id, 추천 예상 평점, category_id 추출\n",
        "    top_item_ids = [int(pred.iid) for pred in top_predictions]\n",
        "    top_item_rating = [ pred.est for pred in top_predictions]\n",
        "    top_item_brands = df[df.product_id.isin(top_item_ids)]['brand']\n",
        "\n",
        "    top_item_preds = [ (id, brand, rating) for id, brand, rating in \\\n",
        "                        zip(top_item_ids, top_item_brands, top_item_rating)]\n",
        "\n",
        "    return top_item_preds\n",
        "\n",
        "# 유저 '550346297'의 결과\n",
        "unseen_items = get_unseen_surprise(df_cat, 550346297)\n",
        "top_item_preds = recomm_item_by_surprise(knnbaseline_algo_i, df_cat, 550346297, unseen_items, top_n=10)\n"
      ],
      "metadata": {
        "colab": {
          "base_uri": "https://localhost:8080/"
        },
        "id": "yA1ezADvbwg-",
        "outputId": "73a71d4e-d8b6-4d01-d0f6-772fb69d4e0a"
      },
      "execution_count": 44,
      "outputs": [
        {
          "output_type": "stream",
          "name": "stdout",
          "text": [
            "봤던 아이템 수: 15 추천 대상 아이템 수: 6631739 전체 아이템 수: 6721651\n"
          ]
        }
      ]
    },
    {
      "cell_type": "code",
      "source": [
        "print('#### 10개의 추천 아이템 리스트 ####')\n",
        "for top_item in top_item_preds:\n",
        "    print(\"product_id :\", top_item[0], '/', \"brand:\",top_item[1] )"
      ],
      "metadata": {
        "colab": {
          "base_uri": "https://localhost:8080/"
        },
        "id": "G5FnMvnVkCIU",
        "outputId": "c67abb3b-b083-4038-c636-ef0eb0a17669"
      },
      "execution_count": 45,
      "outputs": [
        {
          "output_type": "stream",
          "name": "stdout",
          "text": [
            "#### 10개의 추천 아이템 리스트 ####\n",
            "product_id : 1307067 / brand: lenovo\n",
            "product_id : 1004237 / brand: apple\n",
            "product_id : 1306631 / brand: hp\n",
            "product_id : 1005135 / brand: apple\n",
            "product_id : 2700239 / brand: atlant\n",
            "product_id : 1004767 / brand: samsung\n",
            "product_id : 1005135 / brand: apple\n",
            "product_id : 1002544 / brand: apple\n",
            "product_id : 1004659 / brand: samsung\n",
            "product_id : 1306083 / brand: hp\n"
          ]
        }
      ]
    },
    {
      "cell_type": "code",
      "source": [
        "''' # df_cat을 안에 둔 경우\n",
        "\n",
        "# surprise 모델 활용한 10개의 추천 아이템\n",
        "\n",
        "def recomm_item_by_surprise(algo, userID, unseen_items, top_n=10):\n",
        "    # 알고리즘 객체의 predict() 메서드를 본 적이 없는 아이템에 반복 수행한 후 결과를 list로 저장\n",
        "    predictions = [algo.predict(str(userID), str(item_id)) for item_id in unseen_items]\n",
        "\n",
        "    def sortkey_est(pred):\n",
        "        return pred.est\n",
        "\n",
        "    # sortkey_est() 반환값의 내림 차순으로 정렬 수행하고 top_n개의 최상위 값 추출.\n",
        "    predictions.sort(key=sortkey_est, reverse=True)\n",
        "    top_predictions = predictions[:top_n]\n",
        "\n",
        "    # top_n으로 추출된 아이템의 정보 추출. user_id, 추천 예상 평점, category_id 추출\n",
        "    top_item_ids = [int(pred.iid) for pred in top_predictions]\n",
        "    top_item_rating = [ pred.est for pred in top_predictions]\n",
        "    top_item_brands = df_cat[df_cat.product_id.isin(top_item_ids)]['brand']\n",
        "\n",
        "    top_item_preds = [ (id, brand, rating) for id, brand, rating in \\\n",
        "                        zip(top_item_ids, top_item_brands, top_item_rating)]\n",
        "\n",
        "    return top_item_preds\n",
        "\n",
        "unseen_items = get_unseen_surprise(df_cat, 550346297)\n",
        "top_item_preds = recomm_item_by_surprise(knnbaseline_algo_i,550346297, unseen_items, top_n=10)\n",
        "\n",
        "print('#### 10개의 추천 아이템 리스트 ####')\n",
        "for top_item in top_item_preds:\n",
        "    print(top_item[0], \":\", top_item[1])\n",
        "'''"
      ],
      "metadata": {
        "id": "xxE1C-zyiN41"
      },
      "execution_count": null,
      "outputs": []
    },
    {
      "cell_type": "code",
      "source": [
        "## svd \n",
        "\n",
        "svd_algo = SVD(n_factors=50, random_state=42) # 수치 고정하여 결과가 같게\n",
        "\n",
        "svd_algo.fit(trainset)\n",
        "svd_predictions = svd_algo.test(testset)\n",
        "\n",
        "file_name = 'svd_model'\n",
        "dump.dump(file_name, algo=svd_algo)\n",
        "# _, loaded_algo = dump.load(file_name)\n",
        "\n",
        "# svd 모델 RSME, MAE\n",
        "accuracy.rmse(svd_predictions)\n",
        "accuracy.mae(svd_predictions)\n",
        "print(\"Done!\")"
      ],
      "metadata": {
        "colab": {
          "base_uri": "https://localhost:8080/"
        },
        "id": "A1bwzA1s951G",
        "outputId": "90edc76b-6a36-4526-a3a0-bc943821f47c"
      },
      "execution_count": 52,
      "outputs": [
        {
          "output_type": "stream",
          "name": "stdout",
          "text": [
            "RMSE: 0.1925\n",
            "MAE:  0.1342\n",
            "Done!\n"
          ]
        }
      ]
    },
    {
      "cell_type": "code",
      "source": [
        "# svd 모델 추천 리스트\n",
        "# 유저: 548066004\n",
        "\n",
        "unseen_items = get_unseen_surprise(df_cat, 548066004)\n",
        "top_item_preds = recomm_item_by_surprise(svd_algo, df_cat, 548066004, unseen_items, top_n=10)\n"
      ],
      "metadata": {
        "colab": {
          "base_uri": "https://localhost:8080/"
        },
        "id": "-TQ3sHdHltzX",
        "outputId": "76ce8f15-b528-46fb-c333-d3fbd9ffe8c0"
      },
      "execution_count": 53,
      "outputs": [
        {
          "output_type": "stream",
          "name": "stdout",
          "text": [
            "봤던 아이템 수: 38 추천 대상 아이템 수: 6279569 전체 아이템 수: 6721651\n"
          ]
        }
      ]
    },
    {
      "cell_type": "code",
      "source": [
        "print('#### 10개의 추천 아이템 리스트 ####')\n",
        "for top_item in top_item_preds:\n",
        "    print(\"product_id :\", top_item[0], '/', \"brand:\",top_item[1] )"
      ],
      "metadata": {
        "colab": {
          "base_uri": "https://localhost:8080/"
        },
        "id": "m9NQndkzmw4g",
        "outputId": "2981a02d-817f-4b67-c026-df3a2b4363ab"
      },
      "execution_count": 54,
      "outputs": [
        {
          "output_type": "stream",
          "name": "stdout",
          "text": [
            "#### 10개의 추천 아이템 리스트 ####\n",
            "product_id : 1307067 / brand: lenovo\n",
            "product_id : 1004237 / brand: apple\n",
            "product_id : 1306631 / brand: hp\n",
            "product_id : 1005135 / brand: apple\n",
            "product_id : 2700239 / brand: atlant\n",
            "product_id : 1005135 / brand: apple\n",
            "product_id : 1002544 / brand: apple\n",
            "product_id : 1004659 / brand: samsung\n",
            "product_id : 1306083 / brand: hp\n",
            "product_id : 1004659 / brand: samsung\n"
          ]
        }
      ]
    }
  ]
}
